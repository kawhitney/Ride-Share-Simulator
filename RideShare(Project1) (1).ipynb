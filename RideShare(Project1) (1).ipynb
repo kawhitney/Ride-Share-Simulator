{
  "cells": [
    {
      "cell_type": "markdown",
      "metadata": {
        "id": "KZ1k0vfDb_Hx"
      },
      "source": [
        "Harsha Pukkalla and Kaitlynn Whitney"
      ]
    },
    {
      "cell_type": "code",
      "execution_count": null,
      "metadata": {
        "colab": {
          "base_uri": "https://localhost:8080/"
        },
        "id": "aRkq2iXcNY8j",
        "outputId": "5eab0b8a-aed8-4884-8b61-daf1caad3ead"
      },
      "outputs": [
        {
          "output_type": "stream",
          "name": "stdout",
          "text": [
            "fatal: destination path 'CSCE4201_Project1' already exists and is not an empty directory.\n"
          ]
        }
      ],
      "source": [
        "!git clone https://github.com/kawhitney/CSCE4201_Project1.git"
      ]
    },
    {
      "cell_type": "code",
      "execution_count": null,
      "metadata": {
        "id": "JOnlaEuyCvPM"
      },
      "outputs": [],
      "source": [
        "from CSCE4201_Project1.vehicle import Vehicle, Customer\n",
        "\n",
        "from IPython.display import clear_output\n",
        "import networkx as nx\n",
        "from networkx.classes.function import neighbors\n",
        "import pandas as pd\n",
        "import random\n",
        "# import sys\n",
        "import time"
      ]
    },
    {
      "cell_type": "code",
      "execution_count": null,
      "metadata": {
        "id": "RbMaZVEubYxn"
      },
      "outputs": [],
      "source": [
        "# create fleet\n",
        "def create_fleet(fleet_size, locationInfo):\n",
        "  fleet = []\n",
        "  positions = randomGenerator(0, 199, fleet_size+1)\n",
        "  for i in range(fleet_size):\n",
        "    fleet.append(Vehicle(i, positions[i]))\n",
        "    if positions[i] in locationInfo.keys():\n",
        "      locationInfo[positions[i]].append(\"V\"+str(i))\n",
        "    else:\n",
        "      locationInfo[positions[i]] = [\"V\"+str(i)]\n",
        "  return fleet\n",
        "\n",
        "# move vehicles in fleet\n",
        "def move_vehicle(vehicle, locationInfo):\n",
        "  if len(vehicle.path) > 0:\n",
        "    locationInfo[vehicle.currentPosition].remove(\"V\"+str(vehicle.vehicleID))\n",
        "\n",
        "    if len(locationInfo[vehicle.currentPosition]) == 0: \n",
        "       del(locationInfo[vehicle.currentPosition])\n",
        "\n",
        "    # print(locationInfo)\n",
        "    vehicle.move_position(vehicle.path.pop(0))\n",
        "    if vehicle.currentPosition in locationInfo.keys():\n",
        "      locationInfo[vehicle.currentPosition].append(\"V\"+str(vehicle.vehicleID))\n",
        "    else:\n",
        "      locationInfo[vehicle.currentPosition] = [\"V\"+str(vehicle.vehicleID)]\n",
        "    \n",
        "    return True\n",
        "  else:\n",
        "    return False\n",
        "\n",
        "# update vehicle destination\n",
        "def update_vehicle_destination(vehicle):\n",
        "  vehicle.destination = vehicle.path[-1]\n",
        "\n",
        "# add on to vehicle path\n",
        "def add_to_vehicle_path(vehicle, pickup, graph, resultfile):\n",
        "  if len(vehicle.path) > 0:\n",
        "    original_destination = vehicle.destination\n",
        "    vehicle.destination = pickup\n",
        "    # path to pick up customer\n",
        "    path1 = nx.dijkstra_path(graph, vehicle.currentPosition, vehicle.destination)\n",
        "    # resume original drop off destination\n",
        "    path2 = nx.dijkstra_path(graph, vehicle.destination, original_destination)\n",
        "    #combine paths (vehicle will pick up new customer then go resume dropoff of other customer)\n",
        "    path = path1 + path2[1:]\n",
        "  else:\n",
        "    vehicle.destination = pickup\n",
        "    path = nx.dijkstra_path(graph, vehicle.currentPosition, pickup)\n",
        "  #print(f\"{vehicle.vehicleID}->{path}\")\n",
        "  resultfile.write(f\"{vehicle.vehicleID}->{path}\\n\\n\")\n",
        "  vehicle.set_path(path[1:])\n",
        "\n",
        "# create customer\n",
        "def create_customer(customerID, locationInfo, graph):\n",
        "  pickup = random.randint(0, 199)\n",
        "  dropoff = random.randint(0, 199)\n",
        "  # travel length greater than or equal to 10\n",
        "  while nx.dijkstra_path_length(graph, pickup, dropoff) < 9:\n",
        "    dropoff = random.randint(0, 199)  \n",
        "  if pickup in locationInfo.keys():\n",
        "    locationInfo[pickup].append(\"C\"+str(customerID))\n",
        "  else:\n",
        "    locationInfo[pickup] = [\"C\"+str(customerID)]\n",
        "\n",
        "  return Customer(customerID, pickup, dropoff)\n",
        "\n",
        "# probability of customer generating\n",
        "def customer_probability(event, outcomes):\n",
        "  probability=event/outcomes\n",
        "  return random.random() < probability\n",
        "\n",
        "# random position generator\n",
        "def randomGenerator(start, end, size):\n",
        "  randomnumbers = []\n",
        "  if size==1:\n",
        "    return random.randint(start, end)\n",
        "  else:\n",
        "    for i in range(size):\n",
        "      currentnum = random.randint(start, end)\n",
        "      randomnumbers.append(currentnum)\n",
        "    return randomnumbers\n",
        "\n",
        "# create dataframe\n",
        "def create_dataframe(fleet):\n",
        "  columns = ['Miles Traveled', 'Number of Customers', 'Current Location' , 'Desitnation'] # 'Path']\n",
        "  rows = []\n",
        "  data = []\n",
        "  for vehicle in fleet:\n",
        "    rows.append(vehicle.vehicleID)\n",
        "    data.append([vehicle.miles, len(vehicle.customers), vehicle.currentPosition, vehicle.destination]) \n",
        "  return pd.DataFrame(data=data, index=rows, columns=columns)\n"
      ]
    },
    {
      "cell_type": "markdown",
      "metadata": {
        "id": "alpGihJyNt7z"
      },
      "source": [
        "# **Q3:**"
      ]
    },
    {
      "cell_type": "code",
      "execution_count": null,
      "metadata": {
        "id": "hyg50FYOa1Vb"
      },
      "outputs": [],
      "source": [
        "def requestPickup(customer, locationInfo, map, vehicles):\n",
        "  availableVehicle = None\n",
        "  #List to store all the nodes that need to be checked for any available vehicles\n",
        "  checkloc = []\n",
        "  #List to store all the visited nodes\n",
        "  visited = []\n",
        "  #Variable to store the presentlocation of the vehicle\n",
        "  presentlocation = None\n",
        "  #Variable to store the estimated pickup time \n",
        "  eta = 0\n",
        "\n",
        "  #Scenario where the vehicle is immediately present at the customer's pickup location\n",
        "  for i in locationInfo[customer.pickup]:\n",
        "    if \"V\" in i:\n",
        "      v = vehicles[int(i[1:])]\n",
        "      # Checking if the vehicle has vacant seats\n",
        "      if len(v.customers)<= 4 and v.is_busy == False: # will be max of 5 if length = 4 and is_busy is True\n",
        "        availableVehicle = v.vehicleID\n",
        "        v.add_customer(customer)\n",
        "        presentlocation = customer.pickup\n",
        "        eta = 0\n",
        "        break\n",
        "        \n",
        "  #Scenario where the vehicle is not available at the customer's pickup location\n",
        "  if availableVehicle == None:\n",
        "    #Adding the pickup node to checkloc as it was checked already      \n",
        "    checkloc.append(customer.pickup)\n",
        "    #Adding the pickup node to visited as it was visited already\n",
        "    visited.append(customer.pickup)\n",
        "\n",
        "    #This loop runs until either a vehicle is found  or there are no more nodes left in the map to check\n",
        "    while availableVehicle == None and len(checkloc) != 0:\n",
        "      #Initially, this stores all the neighbors of the pickup node into checkloc\n",
        "      #At each iteration it stores the neighbors of the next neighbor at the end of checkloc excluding the nodes already visited\n",
        "      for i in map.neighbors(checkloc[0]):\n",
        "        if i not in visited:\n",
        "          checkloc.append(i)\n",
        "\n",
        "      #Deleting the already visited node      \n",
        "      del checkloc[0]\n",
        "      if len(checkloc) == 0:\n",
        "        break\n",
        "      #checkloc[0] now contains the immediate neighbor\n",
        "      if checkloc[0] in locationInfo.keys():\n",
        "        for j in locationInfo[checkloc[0]]:\n",
        "          if \"V\" in j:\n",
        "            v = vehicles[int(j[1:])]\n",
        "            # Checking if the vehicle has vacant seats and is not currently picking up customer\n",
        "            if len(v.customers)<=5 and v.is_busy == False: \n",
        "              # change the busy status of the vehicle\n",
        "              v.change_busy() \n",
        "              availableVehicle = v.vehicleID\n",
        "              # set customer in vehicle queue\n",
        "              v.customer_in_queue = customer\n",
        "              presentlocation = i\n",
        "              distance = nx.dijkstra_path_length(map, customer.pickup, i)\n",
        "              eta = distance*6\n",
        "              break\n",
        "      #Adding the current node to visited        \n",
        "      visited.append(checkloc[0]) \n",
        "  return availableVehicle, eta\n"
      ]
    },
    {
      "cell_type": "code",
      "execution_count": null,
      "metadata": {
        "id": "k_dQ07bjjgD8"
      },
      "outputs": [],
      "source": [
        "# find drop off path\n",
        "def drop_off_path(vehicle, graph, resultfile):\n",
        "  dropoff = []\n",
        "  if len(vehicle.customers) > 0:\n",
        "    for customer in vehicle.customers:\n",
        "      path = nx.dijkstra_path(graph, vehicle.currentPosition, customer.dropoff)\n",
        "      if len(path) < len(dropoff) or len(dropoff) == 0:\n",
        "        dropoff = path[:]\n",
        "  if len(dropoff) != 0:   \n",
        "    vehicle.set_path(dropoff)\n",
        "    resultfile.write(f\"Path for vehicle {vehicle.vehicleID}: {vehicle.path}\\n\\n\")\n",
        "    vehicle.destination=vehicle.path[-1]\n",
        "\n",
        "# customer drop off\n",
        "def customer_drop_off(vehicle):\n",
        "  for customer in vehicle.customers:\n",
        "    if customer.dropoff == vehicle.currentPosition:\n",
        "      vehicle.remove_customer(customer)"
      ]
    },
    {
      "cell_type": "markdown",
      "metadata": {
        "id": "KY_98464Nwf2"
      },
      "source": [
        "# **Q4:**"
      ]
    },
    {
      "cell_type": "code",
      "execution_count": null,
      "metadata": {
        "id": "dCZmaPOmcqOI"
      },
      "outputs": [],
      "source": [
        "def rideshare(nodes, connectivity, fleet, filename):\n",
        "  \n",
        "  resultfile = open(filename, 'w')\n",
        "\n",
        "  locationInfo = {}\n",
        "  map = nx.connected_watts_strogatz_graph(nodes, connectivity, 0, tries=10, seed=1000) \n",
        "  vehicles = create_fleet(fleet, locationInfo)\n",
        "\n",
        "  hours = 8\n",
        "  while(hours > 0):\n",
        "    resultfile.write(\"\\n\"+\"=\"*20 + f\"Hour: {9-hours}\" + \"=\"*20 + \"\\n\\n\")\n",
        "    hours -= 1\n",
        "    hasCustomer = False \n",
        "    # 100 to 150 customers in the hour\n",
        "    numCustomers = random.randrange(100, 150)\n",
        "    # execute the commands for the hour\n",
        "    for i in range(1200): # 1 hour = 60 min = 1200 sec\n",
        "      # add loop break for when there are no more customers left\n",
        "      if customer_probability(numCustomers, 1200-i) is True and numCustomers > 0: \n",
        "        if hasCustomer == False:\n",
        "          hasCustomer = True\n",
        "        # generate customer\n",
        "        customer = create_customer(numCustomers, locationInfo, map)\n",
        "        resultfile.write(f\"Customer {customer.customerID} requests pickup at {customer.pickup}.\")\n",
        "        numCustomers -= 1\n",
        "        # find pick up vehicle\n",
        "        assignedvehicle, eta = requestPickup(customer, locationInfo, map, vehicles)\n",
        "        resultfile.write(f\"Vehicle {assignedvehicle} has been assigned to customer {customer.customerID} with an eta of {eta} seconds.\\n\")\n",
        "        # append the path from assigned vehicle destination to customer pickup\n",
        "        add_to_vehicle_path(vehicles[assignedvehicle], customer.pickup, map, resultfile)\n",
        "      # 30mph = 0.00833 mps => .05/.00833 = 6 sec\n",
        "      if i%6 == 0 and hasCustomer == True: # vehicles will move every 6 seconds\n",
        "        for vehicle in vehicles:\n",
        "          if move_vehicle(vehicle, locationInfo):\n",
        "            vehicle.miles += 0.05\n",
        "          if vehicle.currentPosition == vehicle.destination and (len(vehicle.customers) > 0 or vehicle.customer_in_queue != None): \n",
        "            if vehicle.is_busy == True:\n",
        "              resultfile.write(f\"Customer {vehicle.customer_in_queue.customerID} has been picked up by {vehicle.vehicleID}\\n\")\n",
        "              # pick up customer\n",
        "              vehicle.add_customer(vehicle.customer_in_queue)\n",
        "              vehicle.customer_in_queue = None\n",
        "              vehicle.change_busy()\n",
        "            else:\n",
        "              # drop off customer\n",
        "              customer_drop_off(vehicle)\n",
        "            # recalculate vehicles travel path if none exists\n",
        "            if len(vehicle.path) == 0:\n",
        "              drop_off_path(vehicle, map, resultfile)\n",
        "            else:\n",
        "              update_vehicle_destination(vehicle)\n",
        "        # update the dataframe variables\n",
        "        df = create_dataframe(vehicles)\n",
        "\n",
        "    #The contents of the dataframe are not being stored in the text file. Will check on how this can be done\n",
        "    resultfile.write(df.to_string())\n",
        "\n",
        "  totalMiles = 0\n",
        "  for vehicle in vehicles:\n",
        "    totalMiles += vehicle.miles\n",
        "  print(f\"Total Miles Traveled: {totalMiles} miles\")\n",
        "  resultfile.write(f\"Total Miles Trave2led: {totalMiles} miles\\n\")\n",
        "  print(f\"Average Miles Traveled: {totalMiles/fleet}\")\n",
        "  resultfile.write(f\"Average Miles Traveled: {totalMiles/fleet}\")\n",
        "\n"
      ]
    },
    {
      "cell_type": "code",
      "source": [
        "nodes = int(input(\"Enter the number of nodes in the graph: \"))\n",
        "connectivity = int(input(\"Enter the average connectivity between the nodes: \"))\n",
        "fleet = int(input(\"Enter the fleet size: \"))\n",
        "\n",
        "rideshare(nodes, connectivity, fleet, 'rideshareresultQ4.txt')"
      ],
      "metadata": {
        "colab": {
          "base_uri": "https://localhost:8080/"
        },
        "id": "0yqQ5jPMQEIp",
        "outputId": "d7b8ab32-4c7a-445a-9c55-4c490ef4094e"
      },
      "execution_count": null,
      "outputs": [
        {
          "output_type": "stream",
          "name": "stdout",
          "text": [
            "Enter the number of nodes in the graph: 200\n",
            "Enter the average connectivity between the nodes: 2\n",
            "Enter the fleet size: 30\n",
            "Total Miles Traveled: 1947.3999999999542 miles\n",
            "Average Miles Traveled: 64.9133333333318\n"
          ]
        }
      ]
    },
    {
      "cell_type": "markdown",
      "metadata": {
        "id": "_y4Zl8MvN0cu"
      },
      "source": [
        "# **Q5:**"
      ]
    },
    {
      "cell_type": "code",
      "source": [
        "nodes = int(input(\"Enter the number of nodes in the graph: \"))\n",
        "connectivity = int(input(\"Enter the average connectivity between the nodes: \"))\n",
        "fleet = int(input(\"Enter the fleet size: \"))\n",
        "\n",
        "rideshare(nodes, connectivity, fleet, 'rideshareresultQ5.txt')"
      ],
      "metadata": {
        "id": "stBOGUiBlwAQ",
        "colab": {
          "base_uri": "https://localhost:8080/"
        },
        "outputId": "8868cad3-6ee1-4556-f26b-77961c21f3bd"
      },
      "execution_count": null,
      "outputs": [
        {
          "output_type": "stream",
          "name": "stdout",
          "text": [
            "Enter the number of nodes in the graph: 200\n",
            "Enter the average connectivity between the nodes: 2\n",
            "Enter the fleet size: 60\n",
            "Total Miles Traveled: 2409.699999999988 miles\n",
            "Average Miles Traveled: 40.16166666666647\n"
          ]
        }
      ]
    },
    {
      "cell_type": "markdown",
      "metadata": {
        "id": "1oKyxq1iN3w9"
      },
      "source": [
        "# **Q6:**"
      ]
    },
    {
      "cell_type": "code",
      "execution_count": null,
      "metadata": {
        "id": "VrCaK6M0AZLy",
        "colab": {
          "base_uri": "https://localhost:8080/"
        },
        "outputId": "71416dcc-bad3-4ece-fb3c-6349bf9c024a"
      },
      "outputs": [
        {
          "output_type": "stream",
          "name": "stdout",
          "text": [
            "Enter the number of nodes in the graph: 200\n",
            "Enter the average connectivity between the nodes: 4\n",
            "Enter the fleet size: 30\n",
            "Total Miles Traveled: 1411.8499999999842 miles\n",
            "Average Miles Traveled: 47.06166666666614\n"
          ]
        }
      ],
      "source": [
        "nodes = int(input(\"Enter the number of nodes in the graph: \"))\n",
        "connectivity = int(input(\"Enter the average connectivity between the nodes: \"))\n",
        "fleet = int(input(\"Enter the fleet size: \"))\n",
        "\n",
        "rideshare(nodes, connectivity, fleet, 'rideshareresultQ6.txt')"
      ]
    }
  ],
  "metadata": {
    "colab": {
      "collapsed_sections": [],
      "provenance": []
    },
    "kernelspec": {
      "display_name": "Python 3",
      "name": "python3"
    },
    "language_info": {
      "name": "python"
    }
  },
  "nbformat": 4,
  "nbformat_minor": 0
}